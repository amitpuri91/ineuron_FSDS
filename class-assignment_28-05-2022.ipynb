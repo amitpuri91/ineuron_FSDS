{
 "cells": [
  {
   "cell_type": "markdown",
   "metadata": {},
   "source": [
    "# Q1 Print following \n",
    "\n",
    "ineuron \n",
    "\n",
    "ineuron ineuron \n",
    "\n",
    "ineuron ineuron ineuron \n",
    "\n",
    "ineuron ineuron ineuron ineuron"
   ]
  },
  {
   "cell_type": "code",
   "execution_count": 6,
   "metadata": {},
   "outputs": [
    {
     "name": "stdout",
     "output_type": "stream",
     "text": [
      "ineuron \n",
      "\n",
      "ineuron ineuron \n",
      "\n",
      "ineuron ineuron ineuron \n",
      "\n",
      "ineuron ineuron ineuron ineuron \n",
      "\n"
     ]
    }
   ],
   "source": [
    "for i in range(4):\n",
    "    for j in range(i+1):\n",
    "        print(\"ineuron\",end=\" \")\n",
    "    print(\"\\n\")"
   ]
  },
  {
   "cell_type": "markdown",
   "metadata": {},
   "source": [
    "# Q2 Print following\n",
    "\n",
    "        ineuron\n",
    "    \n",
    "    ineuron   ineuron\n",
    "    \n",
    "ineuron ineuron    ineuron\n",
    "\n",
    "    ineuron   ineuron\n",
    "    \n",
    "        ineuron"
   ]
  },
  {
   "cell_type": "code",
   "execution_count": 47,
   "metadata": {},
   "outputs": [
    {
     "name": "stdout",
     "output_type": "stream",
     "text": [
      "                                 ineuron \n",
      "                             ineuron  ineuron \n",
      "                         ineuron  ineuron  ineuron \n",
      "                     ineuron  ineuron  ineuron  ineuron \n",
      "                 ineuron  ineuron  ineuron  ineuron  ineuron \n",
      "                         ineuron  ineuron  ineuron \n",
      "                             ineuron  ineuron \n",
      "                                 ineuron \n"
     ]
    }
   ],
   "source": [
    "n=8\n",
    "for i in range(n):\n",
    "    if i<((n+1)/2):\n",
    "        print('    '*(n-i)+\" ineuron \"*(i+1))\n",
    "    else:\n",
    "        print('    '*(i+1)+\" ineuron \"*(n-i))\n",
    "\n",
    "    \n",
    "    \n"
   ]
  },
  {
   "cell_type": "code",
   "execution_count": 48,
   "metadata": {},
   "outputs": [],
   "source": [
    "l=[[1,2,3,4],(2,3,4,5,6),(3,4,5,6,7),set([23,4,5,45,4,4,5,45,45,4,5]),{'k1':\"sudh\",\"k2\":\"ineuron\",\"k3\":\"kumar\",3:6,7:8},\n",
    "   [\"ineuron\",\"data science\"]]"
   ]
  },
  {
   "cell_type": "markdown",
   "metadata": {},
   "source": [
    "# Q3 try to extract all list entity"
   ]
  },
  {
   "cell_type": "code",
   "execution_count": 49,
   "metadata": {},
   "outputs": [
    {
     "name": "stdout",
     "output_type": "stream",
     "text": [
      "[1, 2, 3, 4]\n",
      "['ineuron', 'data science']\n"
     ]
    }
   ],
   "source": [
    "for i in l:\n",
    "    if type(i)==list:\n",
    "        print(i)"
   ]
  },
  {
   "cell_type": "markdown",
   "metadata": {},
   "source": [
    "# Q4 try to extract all dict entity"
   ]
  },
  {
   "cell_type": "code",
   "execution_count": 50,
   "metadata": {},
   "outputs": [
    {
     "name": "stdout",
     "output_type": "stream",
     "text": [
      "{'k1': 'sudh', 'k2': 'ineuron', 'k3': 'kumar', 3: 6, 7: 8}\n"
     ]
    }
   ],
   "source": [
    "for i in l:\n",
    "    if type(i)==dict:\n",
    "        print(i)"
   ]
  },
  {
   "cell_type": "markdown",
   "metadata": {},
   "source": [
    "# Q5 try to extract all tuple entity"
   ]
  },
  {
   "cell_type": "code",
   "execution_count": 51,
   "metadata": {},
   "outputs": [
    {
     "name": "stdout",
     "output_type": "stream",
     "text": [
      "(2, 3, 4, 5, 6)\n",
      "(3, 4, 5, 6, 7)\n"
     ]
    }
   ],
   "source": [
    "for i in l:\n",
    "    if type(i)==tuple:\n",
    "        print(i)"
   ]
  },
  {
   "cell_type": "markdown",
   "metadata": {},
   "source": [
    "# Q6 try to extract all numerical data it may be a part of dict key and values"
   ]
  },
  {
   "cell_type": "code",
   "execution_count": 54,
   "metadata": {},
   "outputs": [
    {
     "name": "stdout",
     "output_type": "stream",
     "text": [
      "1\n",
      "2\n",
      "3\n",
      "4\n",
      "2\n",
      "3\n",
      "4\n",
      "5\n",
      "6\n",
      "3\n",
      "4\n",
      "5\n",
      "6\n",
      "7\n",
      "45\n",
      "4\n",
      "5\n",
      "23\n",
      "3\n",
      "6\n",
      "7\n",
      "8\n"
     ]
    }
   ],
   "source": [
    "for i in l:\n",
    "    if type(i)==dict:\n",
    "        for j,k in i.items():\n",
    "            if type(j)==int:\n",
    "                print(j)\n",
    "            if type(k)==int:\n",
    "                print(k)\n",
    "    else:\n",
    "        for j in i:\n",
    "            if type(j)==int:\n",
    "                print(j)"
   ]
  },
  {
   "cell_type": "markdown",
   "metadata": {},
   "source": [
    "# Q7 try to give summation of all numerical data?"
   ]
  },
  {
   "cell_type": "code",
   "execution_count": 55,
   "metadata": {},
   "outputs": [],
   "source": [
    "sum=0\n",
    "for i in l:\n",
    "    if type(i)==dict:\n",
    "        for j,k in i.items():\n",
    "            if type(j)==int:\n",
    "                sum=sum+j\n",
    "            if type(k)==int:\n",
    "                sum=sum+k\n",
    "    else:\n",
    "        for j in i:\n",
    "            if type(j)==int:\n",
    "                sum=sum+j"
   ]
  },
  {
   "cell_type": "code",
   "execution_count": 56,
   "metadata": {},
   "outputs": [
    {
     "data": {
      "text/plain": [
       "156"
      ]
     },
     "execution_count": 56,
     "metadata": {},
     "output_type": "execute_result"
    }
   ],
   "source": [
    "sum"
   ]
  },
  {
   "cell_type": "markdown",
   "metadata": {},
   "source": [
    "# Q8 try to filter out all odd values out of all numerical data which is part of a list?"
   ]
  },
  {
   "cell_type": "code",
   "execution_count": 62,
   "metadata": {},
   "outputs": [
    {
     "name": "stdout",
     "output_type": "stream",
     "text": [
      "1\n",
      "3\n"
     ]
    }
   ],
   "source": [
    "odd_values=[]\n",
    "for i in l:\n",
    "    if type(i)==list:\n",
    "        for j in i:\n",
    "            if (type(j)==int) and (j%2==1):\n",
    "                print(j)\n",
    "                odd_values.append(j)"
   ]
  },
  {
   "cell_type": "markdown",
   "metadata": {},
   "source": [
    "# Q9 try to extract ineuron out of this data?"
   ]
  },
  {
   "cell_type": "code",
   "execution_count": 64,
   "metadata": {},
   "outputs": [
    {
     "name": "stdout",
     "output_type": "stream",
     "text": [
      "ineuron\n",
      "ineuron\n"
     ]
    }
   ],
   "source": [
    "for i in l:\n",
    "    if type(i)==dict:\n",
    "        for j,k in i.items():\n",
    "            if j==\"ineuron\":\n",
    "                print(j)\n",
    "            if k==\"ineuron\":\n",
    "                print(k)\n",
    "    else:\n",
    "        for j in i:\n",
    "            if j==\"ineuron\":\n",
    "                print(j)"
   ]
  },
  {
   "cell_type": "markdown",
   "metadata": {},
   "source": [
    "# Q10 Try to find out no. of occurences of all data?"
   ]
  },
  {
   "cell_type": "code",
   "execution_count": 66,
   "metadata": {},
   "outputs": [],
   "source": [
    "data=[]\n",
    "for i in l:\n",
    "    if type(i)!=dict:\n",
    "        for j in i:\n",
    "            data.append(j)\n",
    "    else:\n",
    "        for j,k in i.items():\n",
    "            data.append(j)\n",
    "            data.append(k)"
   ]
  },
  {
   "cell_type": "code",
   "execution_count": 70,
   "metadata": {},
   "outputs": [],
   "source": [
    "set_data=set(data)"
   ]
  },
  {
   "cell_type": "code",
   "execution_count": 71,
   "metadata": {},
   "outputs": [
    {
     "name": "stdout",
     "output_type": "stream",
     "text": [
      "1 : 1\n",
      "2 : 2\n",
      "3 : 4\n",
      "4 : 4\n",
      "5 : 3\n",
      "6 : 3\n",
      "7 : 2\n",
      "k2 : 1\n",
      "k3 : 1\n",
      "kumar : 1\n",
      "sudh : 1\n",
      "8 : 1\n",
      "45 : 1\n",
      "data science : 1\n",
      "ineuron : 2\n",
      "23 : 1\n",
      "k1 : 1\n"
     ]
    }
   ],
   "source": [
    "for i in set_data:\n",
    "    print(i,\":\",data.count(i))"
   ]
  },
  {
   "cell_type": "markdown",
   "metadata": {},
   "source": [
    "# Q11 Try to find out no. of keys in dict element?"
   ]
  },
  {
   "cell_type": "code",
   "execution_count": 72,
   "metadata": {},
   "outputs": [
    {
     "name": "stdout",
     "output_type": "stream",
     "text": [
      "5\n"
     ]
    }
   ],
   "source": [
    "for i in l:\n",
    "    if type(i)==dict:\n",
    "        print(len(list(i.keys())))"
   ]
  },
  {
   "cell_type": "markdown",
   "metadata": {},
   "source": [
    "# Q12 try to filter out all string data?"
   ]
  },
  {
   "cell_type": "code",
   "execution_count": 73,
   "metadata": {},
   "outputs": [
    {
     "name": "stdout",
     "output_type": "stream",
     "text": [
      "k1\n",
      "sudh\n",
      "k2\n",
      "ineuron\n",
      "k3\n",
      "kumar\n",
      "ineuron\n",
      "data science\n"
     ]
    }
   ],
   "source": [
    "for i in l:\n",
    "    if type(i)!=dict:\n",
    "        for j in i:\n",
    "            if type(j)==str:\n",
    "                print(j)\n",
    "    else:\n",
    "        for j,k in i.items():\n",
    "            if type(j)==str:\n",
    "                print(j)\n",
    "            if type(k)==str:\n",
    "                print(k)"
   ]
  },
  {
   "cell_type": "markdown",
   "metadata": {},
   "source": [
    "# Q13 try to find out alpha numeric in data?"
   ]
  },
  {
   "cell_type": "code",
   "execution_count": 75,
   "metadata": {},
   "outputs": [
    {
     "name": "stdout",
     "output_type": "stream",
     "text": [
      "k1\n",
      "sudh\n",
      "k2\n",
      "ineuron\n",
      "k3\n",
      "kumar\n",
      "ineuron\n"
     ]
    }
   ],
   "source": [
    "for i in l:\n",
    "    if type(i)!=dict:\n",
    "        for j in i:\n",
    "            if type(j)==str and j.isalnum():\n",
    "                print(j)\n",
    "    else:\n",
    "        for j,k in i.items():\n",
    "            if type(j)==str and j.isalnum():\n",
    "                print(j)\n",
    "            if type(k)==str and k.isalnum():\n",
    "                print(k)"
   ]
  },
  {
   "cell_type": "markdown",
   "metadata": {},
   "source": [
    "# Q14 try to find out multiplication of all numeric values in individual collection inside data set?"
   ]
  },
  {
   "cell_type": "code",
   "execution_count": 78,
   "metadata": {},
   "outputs": [
    {
     "name": "stdout",
     "output_type": "stream",
     "text": [
      "[1, 2, 3, 4] : 24\n",
      "(2, 3, 4, 5, 6) : 720\n",
      "(3, 4, 5, 6, 7) : 2520\n",
      "{45, 4, 5, 23} : 20700\n",
      "{'k1': 'sudh', 'k2': 'ineuron', 'k3': 'kumar', 3: 6, 7: 8} : 1008\n",
      "['ineuron', 'data science'] : 0\n"
     ]
    }
   ],
   "source": [
    "for i in l:\n",
    "    if type(i)!=dict:\n",
    "        mul=1\n",
    "        for j in i:\n",
    "            if type(j)==int:\n",
    "                mul=mul*j\n",
    "    else:\n",
    "        mul=1\n",
    "        for j,k in i.items():\n",
    "            if type(j)==int:\n",
    "                mul=mul*j\n",
    "            if type(k)==int:\n",
    "                mul=mul*k\n",
    "    if mul!=1:            \n",
    "        print(i,\":\",mul)\n",
    "    else:\n",
    "        print(i,\":\",0)"
   ]
  },
  {
   "cell_type": "markdown",
   "metadata": {},
   "source": [
    "# Q15 try to unwrap all collection inside collection and create a flat list?"
   ]
  },
  {
   "cell_type": "code",
   "execution_count": 79,
   "metadata": {},
   "outputs": [
    {
     "data": {
      "text/plain": [
       "[1,\n",
       " 2,\n",
       " 3,\n",
       " 4,\n",
       " 2,\n",
       " 3,\n",
       " 4,\n",
       " 5,\n",
       " 6,\n",
       " 3,\n",
       " 4,\n",
       " 5,\n",
       " 6,\n",
       " 7,\n",
       " 45,\n",
       " 4,\n",
       " 5,\n",
       " 23,\n",
       " 'k1',\n",
       " 'sudh',\n",
       " 'k2',\n",
       " 'ineuron',\n",
       " 'k3',\n",
       " 'kumar',\n",
       " 3,\n",
       " 6,\n",
       " 7,\n",
       " 8,\n",
       " 'ineuron',\n",
       " 'data science']"
      ]
     },
     "execution_count": 79,
     "metadata": {},
     "output_type": "execute_result"
    }
   ],
   "source": [
    "flat_list=[]\n",
    "for i in l:\n",
    "    if type(i)!=dict:\n",
    "        for j in i:\n",
    "            flat_list.append(j)\n",
    "    else:\n",
    "        for j,k in i.items():\n",
    "            flat_list.append(j)\n",
    "            flat_list.append(k)\n",
    "\n",
    "flat_list"
   ]
  },
  {
   "cell_type": "code",
   "execution_count": null,
   "metadata": {},
   "outputs": [],
   "source": []
  }
 ],
 "metadata": {
  "kernelspec": {
   "display_name": "Python 3",
   "language": "python",
   "name": "python3"
  },
  "language_info": {
   "codemirror_mode": {
    "name": "ipython",
    "version": 3
   },
   "file_extension": ".py",
   "mimetype": "text/x-python",
   "name": "python",
   "nbconvert_exporter": "python",
   "pygments_lexer": "ipython3",
   "version": "3.8.5"
  }
 },
 "nbformat": 4,
 "nbformat_minor": 4
}
